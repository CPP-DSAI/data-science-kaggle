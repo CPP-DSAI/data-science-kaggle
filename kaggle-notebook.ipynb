{
 "cells": [
  {
   "cell_type": "code",
   "execution_count": null,
   "id": "f47d8a57-aa2a-4b78-978f-022bca7bbca7",
   "metadata": {},
   "outputs": [],
   "source": [
    "# Hello!\n",
    "\n",
    "#checking in: this is Mary testing if my git is set up correctly -M"
   ]
  }
 ],
 "metadata": {
  "kernelspec": {
   "display_name": "Python 3 (ipykernel)",
   "language": "python",
   "name": "python3"
  },
  "language_info": {
   "codemirror_mode": {
    "name": "ipython",
    "version": 3
   },
   "file_extension": ".py",
   "mimetype": "text/x-python",
   "name": "python",
   "nbconvert_exporter": "python",
   "pygments_lexer": "ipython3",
   "version": "3.12.4"
  }
 },
 "nbformat": 4,
 "nbformat_minor": 5
}
